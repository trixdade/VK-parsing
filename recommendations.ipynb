{
 "cells": [
  {
   "cell_type": "code",
   "execution_count": 1,
   "id": "b39f5bfd",
   "metadata": {},
   "outputs": [
    {
     "name": "stdout",
     "output_type": "stream",
     "text": [
      "FM model is only supported on Linux.\n",
      "Windows executable can be found at http://www.libfm.org.\n"
     ]
    }
   ],
   "source": [
    "import pandas as pd\n",
    "import numpy as np\n",
    "import cornac\n",
    "from cornac.eval_methods import RatioSplit\n",
    "from cornac.data import TextModality\n",
    "from cornac.data.text import BaseTokenizer\n",
    "from cornac.models import MF, PMF, BPR\n",
    "from cornac.metrics import MAE, RMSE, Precision, Recall, NDCG, AUC, MAP\n",
    "\n",
    "from tqdm.notebook import tqdm\n",
    "import random\n",
    "import networkx as nx\n",
    "from community import community_louvain\n",
    "import matplotlib.pyplot as plt"
   ]
  },
  {
   "cell_type": "code",
   "execution_count": 2,
   "id": "5f28d328",
   "metadata": {},
   "outputs": [
    {
     "data": {
      "text/html": [
       "<style>.container { width:80% !important; }</style>"
      ],
      "text/plain": [
       "<IPython.core.display.HTML object>"
      ]
     },
     "metadata": {},
     "output_type": "display_data"
    }
   ],
   "source": [
    "from IPython.core.display import display, HTML\n",
    "display(HTML(\"<style>.container { width:80% !important; }</style>\"))"
   ]
  },
  {
   "cell_type": "code",
   "execution_count": 4,
   "id": "f79a4013",
   "metadata": {},
   "outputs": [
    {
     "data": {
      "text/html": [
       "<div>\n",
       "<style scoped>\n",
       "    .dataframe tbody tr th:only-of-type {\n",
       "        vertical-align: middle;\n",
       "    }\n",
       "\n",
       "    .dataframe tbody tr th {\n",
       "        vertical-align: top;\n",
       "    }\n",
       "\n",
       "    .dataframe thead th {\n",
       "        text-align: right;\n",
       "    }\n",
       "</style>\n",
       "<table border=\"1\" class=\"dataframe\">\n",
       "  <thead>\n",
       "    <tr style=\"text-align: right;\">\n",
       "      <th></th>\n",
       "      <th>id</th>\n",
       "      <th>owner_id</th>\n",
       "      <th>date</th>\n",
       "      <th>text</th>\n",
       "      <th>likes</th>\n",
       "      <th>reposts</th>\n",
       "      <th>attachments</th>\n",
       "      <th>marked_as_ads</th>\n",
       "      <th>likes_id</th>\n",
       "      <th>clean_text</th>\n",
       "    </tr>\n",
       "  </thead>\n",
       "  <tbody>\n",
       "    <tr>\n",
       "      <th>0</th>\n",
       "      <td>133540</td>\n",
       "      <td>-194512826</td>\n",
       "      <td>2022-08-10 10:03:00</td>\n",
       "      <td>несмотря на то что в детстве тебя гнобили и ун...</td>\n",
       "      <td>103</td>\n",
       "      <td>9</td>\n",
       "      <td>[{'type': 'photo', 'photo': {'album_id': 27455...</td>\n",
       "      <td>0</td>\n",
       "      <td>[410793517, 616126528, 560812373, 417061866, 4...</td>\n",
       "      <td>несмотря детстве гнобили унижали выросла увере...</td>\n",
       "    </tr>\n",
       "    <tr>\n",
       "      <th>1</th>\n",
       "      <td>133527</td>\n",
       "      <td>-194512826</td>\n",
       "      <td>2022-08-10 08:03:00</td>\n",
       "      <td>что-то не на рукожопском</td>\n",
       "      <td>359</td>\n",
       "      <td>55</td>\n",
       "      <td>[{'type': 'photo', 'photo': {'album_id': 27455...</td>\n",
       "      <td>0</td>\n",
       "      <td>[84261400, 608143054, 386867124, 467120708, 49...</td>\n",
       "      <td>рукожопском</td>\n",
       "    </tr>\n",
       "    <tr>\n",
       "      <th>2</th>\n",
       "      <td>133520</td>\n",
       "      <td>-194512826</td>\n",
       "      <td>2022-08-10 07:03:01</td>\n",
       "      <td>такую только на руки и сразу в загс</td>\n",
       "      <td>189</td>\n",
       "      <td>12</td>\n",
       "      <td>[{'type': 'photo', 'photo': {'album_id': 28226...</td>\n",
       "      <td>0</td>\n",
       "      <td>[539309607, 698827901, 612743278, 695332193, 5...</td>\n",
       "      <td>такую руки сразу загс</td>\n",
       "    </tr>\n",
       "    <tr>\n",
       "      <th>3</th>\n",
       "      <td>133517</td>\n",
       "      <td>-194512826</td>\n",
       "      <td>2022-08-10 06:03:00</td>\n",
       "      <td>едете с друзьями в санаторий с джакузи и кисло...</td>\n",
       "      <td>179</td>\n",
       "      <td>23</td>\n",
       "      <td>[{'type': 'photo', 'photo': {'album_id': 27455...</td>\n",
       "      <td>0</td>\n",
       "      <td>[348806758, 586377905, 371947448, 612743278, 4...</td>\n",
       "      <td>едете друзьями санаторий джакузи кислородными ...</td>\n",
       "    </tr>\n",
       "    <tr>\n",
       "      <th>4</th>\n",
       "      <td>133490</td>\n",
       "      <td>-194512826</td>\n",
       "      <td>2022-08-09 19:03:00</td>\n",
       "      <td>вайбы этого лета✨</td>\n",
       "      <td>186</td>\n",
       "      <td>16</td>\n",
       "      <td>[{'type': 'photo', 'photo': {'album_id': 28226...</td>\n",
       "      <td>0</td>\n",
       "      <td>[139471744, 612743278, 560812373, 325298462, 4...</td>\n",
       "      <td>вайбы лета</td>\n",
       "    </tr>\n",
       "  </tbody>\n",
       "</table>\n",
       "</div>"
      ],
      "text/plain": [
       "       id   owner_id                date  \\\n",
       "0  133540 -194512826 2022-08-10 10:03:00   \n",
       "1  133527 -194512826 2022-08-10 08:03:00   \n",
       "2  133520 -194512826 2022-08-10 07:03:01   \n",
       "3  133517 -194512826 2022-08-10 06:03:00   \n",
       "4  133490 -194512826 2022-08-09 19:03:00   \n",
       "\n",
       "                                                text  likes  reposts  \\\n",
       "0  несмотря на то что в детстве тебя гнобили и ун...    103        9   \n",
       "1                           что-то не на рукожопском    359       55   \n",
       "2                такую только на руки и сразу в загс    189       12   \n",
       "3  едете с друзьями в санаторий с джакузи и кисло...    179       23   \n",
       "4                                  вайбы этого лета✨    186       16   \n",
       "\n",
       "                                         attachments  marked_as_ads  \\\n",
       "0  [{'type': 'photo', 'photo': {'album_id': 27455...              0   \n",
       "1  [{'type': 'photo', 'photo': {'album_id': 27455...              0   \n",
       "2  [{'type': 'photo', 'photo': {'album_id': 28226...              0   \n",
       "3  [{'type': 'photo', 'photo': {'album_id': 27455...              0   \n",
       "4  [{'type': 'photo', 'photo': {'album_id': 28226...              0   \n",
       "\n",
       "                                            likes_id  \\\n",
       "0  [410793517, 616126528, 560812373, 417061866, 4...   \n",
       "1  [84261400, 608143054, 386867124, 467120708, 49...   \n",
       "2  [539309607, 698827901, 612743278, 695332193, 5...   \n",
       "3  [348806758, 586377905, 371947448, 612743278, 4...   \n",
       "4  [139471744, 612743278, 560812373, 325298462, 4...   \n",
       "\n",
       "                                          clean_text  \n",
       "0  несмотря детстве гнобили унижали выросла увере...  \n",
       "1                                        рукожопском  \n",
       "2                              такую руки сразу загс  \n",
       "3  едете друзьями санаторий джакузи кислородными ...  \n",
       "4                                         вайбы лета  "
      ]
     },
     "execution_count": 4,
     "metadata": {},
     "output_type": "execute_result"
    }
   ],
   "source": [
    "posts = pd.read_pickle('data/posts_cleared.pkl')\n",
    "posts.head()"
   ]
  },
  {
   "cell_type": "code",
   "execution_count": 6,
   "id": "e8ceb6da",
   "metadata": {},
   "outputs": [],
   "source": [
    "df_edges = pd.read_csv(\"edges_500.csv\")\n",
    "df_nodes = pd.read_csv(\"nodes_500.csv\")"
   ]
  },
  {
   "cell_type": "markdown",
   "id": "68085f70",
   "metadata": {},
   "source": [
    "# Aggregating data for Graph"
   ]
  },
  {
   "cell_type": "code",
   "execution_count": 49,
   "id": "39613884",
   "metadata": {},
   "outputs": [],
   "source": [
    "from collections import Counter"
   ]
  },
  {
   "cell_type": "code",
   "execution_count": 50,
   "id": "53beaa35",
   "metadata": {},
   "outputs": [],
   "source": [
    "def intersection(lst1, lst2):\n",
    "    return list(set(lst1) & set(lst2))"
   ]
  },
  {
   "cell_type": "code",
   "execution_count": 51,
   "id": "d173cd99",
   "metadata": {},
   "outputs": [],
   "source": [
    "size = 1000\n",
    "#size = posts.shape[0]"
   ]
  },
  {
   "cell_type": "markdown",
   "id": "659e41c0",
   "metadata": {},
   "source": [
    "e = [('a', 'b', 0.3), ('b', 'c', 0.9), ('a', 'c', 0.5), ('c', 'd', 1.2)]"
   ]
  },
  {
   "cell_type": "code",
   "execution_count": 52,
   "id": "f4fbb9f5",
   "metadata": {},
   "outputs": [
    {
     "data": {
      "application/vnd.jupyter.widget-view+json": {
       "model_id": "acf8adca65d840f0a45e70f186f5ecf6",
       "version_major": 2,
       "version_minor": 0
      },
      "text/plain": [
       "  0%|          | 0/1000 [00:00<?, ?it/s]"
      ]
     },
     "metadata": {},
     "output_type": "display_data"
    }
   ],
   "source": [
    "edges = []\n",
    "for i in tqdm(range(size)):\n",
    "    for j in range(i+1, size):\n",
    "        name_1 = posts.iloc[i].id\n",
    "        name_2 = posts.iloc[j].id\n",
    "        weight = len(intersection(posts.iloc[i].likes_id, posts.iloc[j].likes_id))\n",
    "        edges.append((name_1, name_2, 'Undirected', weight))"
   ]
  },
  {
   "cell_type": "code",
   "execution_count": 53,
   "id": "d11b1d9a",
   "metadata": {},
   "outputs": [
    {
     "data": {
      "text/html": [
       "<div>\n",
       "<style scoped>\n",
       "    .dataframe tbody tr th:only-of-type {\n",
       "        vertical-align: middle;\n",
       "    }\n",
       "\n",
       "    .dataframe tbody tr th {\n",
       "        vertical-align: top;\n",
       "    }\n",
       "\n",
       "    .dataframe thead th {\n",
       "        text-align: right;\n",
       "    }\n",
       "</style>\n",
       "<table border=\"1\" class=\"dataframe\">\n",
       "  <thead>\n",
       "    <tr style=\"text-align: right;\">\n",
       "      <th></th>\n",
       "      <th>Source</th>\n",
       "      <th>Target</th>\n",
       "      <th>Type</th>\n",
       "      <th>Weight</th>\n",
       "    </tr>\n",
       "  </thead>\n",
       "  <tbody>\n",
       "    <tr>\n",
       "      <th>0</th>\n",
       "      <td>133540</td>\n",
       "      <td>133527</td>\n",
       "      <td>Undirected</td>\n",
       "      <td>41</td>\n",
       "    </tr>\n",
       "    <tr>\n",
       "      <th>1</th>\n",
       "      <td>133540</td>\n",
       "      <td>133520</td>\n",
       "      <td>Undirected</td>\n",
       "      <td>22</td>\n",
       "    </tr>\n",
       "    <tr>\n",
       "      <th>2</th>\n",
       "      <td>133540</td>\n",
       "      <td>133517</td>\n",
       "      <td>Undirected</td>\n",
       "      <td>20</td>\n",
       "    </tr>\n",
       "  </tbody>\n",
       "</table>\n",
       "</div>"
      ],
      "text/plain": [
       "   Source  Target        Type  Weight\n",
       "0  133540  133527  Undirected      41\n",
       "1  133540  133520  Undirected      22\n",
       "2  133540  133517  Undirected      20"
      ]
     },
     "execution_count": 53,
     "metadata": {},
     "output_type": "execute_result"
    }
   ],
   "source": [
    "df_edges = pd.DataFrame(edges, columns=['Source', 'Target', 'Type', 'Weight'])\n",
    "df_edges.head(3)"
   ]
  },
  {
   "cell_type": "code",
   "execution_count": 54,
   "id": "64935600",
   "metadata": {},
   "outputs": [
    {
     "data": {
      "text/plain": [
       "(499500, 4)"
      ]
     },
     "execution_count": 54,
     "metadata": {},
     "output_type": "execute_result"
    }
   ],
   "source": [
    "df_edges.shape"
   ]
  },
  {
   "cell_type": "code",
   "execution_count": 12,
   "id": "b4b60527",
   "metadata": {},
   "outputs": [],
   "source": [
    "df_edges = df_edges.set_index('Source')"
   ]
  },
  {
   "cell_type": "code",
   "execution_count": 55,
   "id": "1d36ad53",
   "metadata": {},
   "outputs": [],
   "source": [
    "df_nodes = pd.concat([posts.id, posts.rename(columns={'id':'label'}).label, posts.rename(columns={'id':'Attribute1'}).Attribute1], axis=1)\n",
    "df_nodes = df_nodes.set_index('id')"
   ]
  },
  {
   "cell_type": "code",
   "execution_count": 56,
   "id": "5cbd0ca7",
   "metadata": {},
   "outputs": [],
   "source": []
  },
  {
   "cell_type": "code",
   "execution_count": 57,
   "id": "86ac8da9",
   "metadata": {},
   "outputs": [],
   "source": [
    "list_nodes = list(df_edges.index)"
   ]
  },
  {
   "cell_type": "code",
   "execution_count": 58,
   "id": "984c5979",
   "metadata": {},
   "outputs": [],
   "source": [
    "df_nodes = df_nodes.query('id in @list_nodes')"
   ]
  },
  {
   "cell_type": "code",
   "execution_count": 17,
   "id": "26e841df",
   "metadata": {},
   "outputs": [
    {
     "data": {
      "text/html": [
       "<div>\n",
       "<style scoped>\n",
       "    .dataframe tbody tr th:only-of-type {\n",
       "        vertical-align: middle;\n",
       "    }\n",
       "\n",
       "    .dataframe tbody tr th {\n",
       "        vertical-align: top;\n",
       "    }\n",
       "\n",
       "    .dataframe thead th {\n",
       "        text-align: right;\n",
       "    }\n",
       "</style>\n",
       "<table border=\"1\" class=\"dataframe\">\n",
       "  <thead>\n",
       "    <tr style=\"text-align: right;\">\n",
       "      <th></th>\n",
       "      <th>Target</th>\n",
       "      <th>Type</th>\n",
       "      <th>Weight</th>\n",
       "    </tr>\n",
       "    <tr>\n",
       "      <th>Source</th>\n",
       "      <th></th>\n",
       "      <th></th>\n",
       "      <th></th>\n",
       "    </tr>\n",
       "  </thead>\n",
       "  <tbody>\n",
       "    <tr>\n",
       "      <th>133540</th>\n",
       "      <td>133527</td>\n",
       "      <td>Undirected</td>\n",
       "      <td>41</td>\n",
       "    </tr>\n",
       "    <tr>\n",
       "      <th>133540</th>\n",
       "      <td>133520</td>\n",
       "      <td>Undirected</td>\n",
       "      <td>22</td>\n",
       "    </tr>\n",
       "    <tr>\n",
       "      <th>133540</th>\n",
       "      <td>133517</td>\n",
       "      <td>Undirected</td>\n",
       "      <td>20</td>\n",
       "    </tr>\n",
       "    <tr>\n",
       "      <th>133540</th>\n",
       "      <td>133490</td>\n",
       "      <td>Undirected</td>\n",
       "      <td>21</td>\n",
       "    </tr>\n",
       "    <tr>\n",
       "      <th>133540</th>\n",
       "      <td>133475</td>\n",
       "      <td>Undirected</td>\n",
       "      <td>3</td>\n",
       "    </tr>\n",
       "    <tr>\n",
       "      <th>...</th>\n",
       "      <td>...</td>\n",
       "      <td>...</td>\n",
       "      <td>...</td>\n",
       "    </tr>\n",
       "    <tr>\n",
       "      <th>128409</th>\n",
       "      <td>128391</td>\n",
       "      <td>Undirected</td>\n",
       "      <td>120</td>\n",
       "    </tr>\n",
       "    <tr>\n",
       "      <th>128409</th>\n",
       "      <td>128387</td>\n",
       "      <td>Undirected</td>\n",
       "      <td>373</td>\n",
       "    </tr>\n",
       "    <tr>\n",
       "      <th>128401</th>\n",
       "      <td>128391</td>\n",
       "      <td>Undirected</td>\n",
       "      <td>119</td>\n",
       "    </tr>\n",
       "    <tr>\n",
       "      <th>128401</th>\n",
       "      <td>128387</td>\n",
       "      <td>Undirected</td>\n",
       "      <td>373</td>\n",
       "    </tr>\n",
       "    <tr>\n",
       "      <th>128391</th>\n",
       "      <td>128387</td>\n",
       "      <td>Undirected</td>\n",
       "      <td>146</td>\n",
       "    </tr>\n",
       "  </tbody>\n",
       "</table>\n",
       "<p>124750 rows × 3 columns</p>\n",
       "</div>"
      ],
      "text/plain": [
       "        Target        Type  Weight\n",
       "Source                            \n",
       "133540  133527  Undirected      41\n",
       "133540  133520  Undirected      22\n",
       "133540  133517  Undirected      20\n",
       "133540  133490  Undirected      21\n",
       "133540  133475  Undirected       3\n",
       "...        ...         ...     ...\n",
       "128409  128391  Undirected     120\n",
       "128409  128387  Undirected     373\n",
       "128401  128391  Undirected     119\n",
       "128401  128387  Undirected     373\n",
       "128391  128387  Undirected     146\n",
       "\n",
       "[124750 rows x 3 columns]"
      ]
     },
     "execution_count": 17,
     "metadata": {},
     "output_type": "execute_result"
    }
   ],
   "source": [
    "df_edges"
   ]
  },
  {
   "cell_type": "code",
   "execution_count": 59,
   "id": "e69b8677",
   "metadata": {},
   "outputs": [],
   "source": [
    "df_nodes.to_csv('nodes_1000.csv')\n",
    "df_edges.to_csv('edges_1000.csv')"
   ]
  },
  {
   "cell_type": "code",
   "execution_count": 86,
   "id": "db2d8ed7",
   "metadata": {},
   "outputs": [],
   "source": [
    "import pickle"
   ]
  },
  {
   "cell_type": "code",
   "execution_count": 87,
   "id": "b671dab5",
   "metadata": {},
   "outputs": [],
   "source": [
    "with open('edges.pickle', 'wb') as handle:\n",
    "    pickle.dump(edges, handle, protocol=pickle.HIGHEST_PROTOCOL)"
   ]
  },
  {
   "cell_type": "code",
   "execution_count": 88,
   "id": "a3f51f6c",
   "metadata": {},
   "outputs": [],
   "source": [
    "# Load data (deserialize)\n",
    "with open('edges.pickle', 'rb') as handle:\n",
    "    unserialized_data = pickle.load(handle)"
   ]
  },
  {
   "cell_type": "code",
   "execution_count": 203,
   "id": "36705b1a",
   "metadata": {},
   "outputs": [
    {
     "data": {
      "image/png": "[encoded data removed]",
      "text/plain": [
       "<Figure size 1152x648 with 1 Axes>"
      ]
     },
     "metadata": {
      "needs_background": "light"
     },
     "output_type": "display_data"
    }
   ],
   "source": [
    "plt.figure(figsize=(16,9))\n",
    "plt.plot(df_edges.query('Source == 133540').Weight.rolling(31).mean().values, label='133540')\n",
    "plt.plot(np.linspace(1,998, 998), df_edges.query('Source == 133527').Weight.rolling(31).mean().values, label='133527')\n",
    "plt.plot(np.linspace(2,998, 997), df_edges.query('Source == 133520').Weight.rolling(31).mean().values, label='133520')\n",
    "plt.plot(np.linspace(67,998, 932), df_edges.query('Source == 132784').Weight.rolling(31).mean().values, label='132784')\n",
    "plt.plot(np.linspace(108,998, 891), df_edges.query('Source == 132378').Weight.rolling(31).mean().values, label='132378')\n",
    "plt.plot(np.linspace(226,998, 773), df_edges.query('Source == 131460').Weight.rolling(31).mean().values, label='131460')\n",
    "plt.plot(np.linspace(273,998, 726), df_edges.query('Source == 130978').Weight.rolling(31).mean().values, label='130978')\n",
    "plt.legend()\n",
    "plt.show()"
   ]
  },
  {
   "cell_type": "code",
   "execution_count": 168,
   "id": "d5f3d2da",
   "metadata": {},
   "outputs": [
    {
     "data": {
      "text/plain": [
       "[<matplotlib.lines.Line2D at 0x296c4b03610>]"
      ]
     },
     "execution_count": 168,
     "metadata": {},
     "output_type": "execute_result"
    },
    {
     "data": {
      "image/png": "[encoded data removed]",
      "text/plain": [
       "<Figure size 432x288 with 1 Axes>"
      ]
     },
     "metadata": {
      "needs_background": "light"
     },
     "output_type": "display_data"
    }
   ],
   "source": [
    "plt.plot(pd.Series(df_edges.query('Source == 132784').reset_index().Weight * np.linspace(1,1.7,932)).rolling(100).mean())"
   ]
  },
  {
   "cell_type": "code",
   "execution_count": 178,
   "id": "ddf952ea",
   "metadata": {},
   "outputs": [],
   "source": [
    "n = df_edges_clean.shape[0]"
   ]
  },
  {
   "cell_type": "code",
   "execution_count": 179,
   "id": "c31df106-0450-47ef-a373-94eeb202734c",
   "metadata": {},
   "outputs": [
    {
     "data": {
      "application/vnd.jupyter.widget-view+json": {
       "model_id": "eb0522f6a1964909905ea9c7711fc49e",
       "version_major": 2,
       "version_minor": 0
      },
      "text/plain": [
       "  0%|          | 0/372377 [00:00<?, ?it/s]"
      ]
     },
     "metadata": {},
     "output_type": "display_data"
    }
   ],
   "source": [
    "edges_list = [(df_edges_clean.iloc[i].Source, \n",
    "               df_edges_clean.iloc[i].Target, \n",
    "               df_edges_clean.iloc[i].Weight) \n",
    "               for i in tqdm(range(n))]"
   ]
  },
  {
   "cell_type": "code",
   "execution_count": 115,
   "id": "358fcc47",
   "metadata": {},
   "outputs": [
    {
     "data": {
      "application/vnd.jupyter.widget-view+json": {
       "model_id": "f6fe702f544740488a7465008f827cb8",
       "version_major": 2,
       "version_minor": 0
      },
      "text/plain": [
       "0it [00:00, ?it/s]"
      ]
     },
     "metadata": {},
     "output_type": "display_data"
    }
   ],
   "source": [
    "lst_edges = df_edges.Source.unique()\n",
    "Weights = []\n",
    "for i, source in tqdm(enumerate(lst_edges)):\n",
    "    df = df_edges.query('Source == @source')\n",
    "    weight = df.reset_index().Weight * np.linspace(1,2,1000-i-1)\n",
    "    Weights.extend(weight)"
   ]
  },
  {
   "cell_type": "code",
   "execution_count": 128,
   "id": "732ed22a",
   "metadata": {},
   "outputs": [
    {
     "data": {
      "text/plain": [
       "{'whiskers': [<matplotlib.lines.Line2D at 0x296d9e4ec10>,\n",
       "  <matplotlib.lines.Line2D at 0x296d9e4eee0>],\n",
       " 'caps': [<matplotlib.lines.Line2D at 0x296d9e5e1f0>,\n",
       "  <matplotlib.lines.Line2D at 0x296d9e5e4c0>],\n",
       " 'boxes': [<matplotlib.lines.Line2D at 0x296d9e4e940>],\n",
       " 'medians': [<matplotlib.lines.Line2D at 0x296d9e5e790>],\n",
       " 'fliers': [],\n",
       " 'means': []}"
      ]
     },
     "execution_count": 128,
     "metadata": {},
     "output_type": "execute_result"
    },
    {
     "data": {
      "image/png": "[encoded data removed]",
      "text/plain": [
       "<Figure size 432x288 with 1 Axes>"
      ]
     },
     "metadata": {
      "needs_background": "light"
     },
     "output_type": "display_data"
    }
   ],
   "source": [
    "plt.boxplot(sorted(Weights), showfliers = False)"
   ]
  },
  {
   "cell_type": "code",
   "execution_count": 141,
   "id": "983dbd8e",
   "metadata": {},
   "outputs": [],
   "source": [
    "df_edges.Weight = [int(w) for w in Weights]"
   ]
  },
  {
   "cell_type": "code",
   "execution_count": 159,
   "id": "27d82abd",
   "metadata": {},
   "outputs": [],
   "source": [
    "df_edges_clean = df_edges.drop(df_edges.index[np.where(df_edges.Weight < 50)])"
   ]
  },
  {
   "cell_type": "code",
   "execution_count": 198,
   "id": "e4e8685c",
   "metadata": {},
   "outputs": [],
   "source": [
    "df_edges_clean = df_edges_clean.set_index('Source')"
   ]
  },
  {
   "cell_type": "code",
   "execution_count": 199,
   "id": "390e76c0",
   "metadata": {},
   "outputs": [],
   "source": [
    "df_edges_clean.to_csv('edges_clean_1000.csv')"
   ]
  },
  {
   "cell_type": "code",
   "execution_count": 171,
   "id": "8991dd05",
   "metadata": {},
   "outputs": [],
   "source": [
    "nodes_lst = df_edges_clean.Source.unique()"
   ]
  },
  {
   "cell_type": "code",
   "execution_count": 176,
   "id": "3c86abf5",
   "metadata": {},
   "outputs": [
    {
     "data": {
      "text/html": [
       "<div>\n",
       "<style scoped>\n",
       "    .dataframe tbody tr th:only-of-type {\n",
       "        vertical-align: middle;\n",
       "    }\n",
       "\n",
       "    .dataframe tbody tr th {\n",
       "        vertical-align: top;\n",
       "    }\n",
       "\n",
       "    .dataframe thead th {\n",
       "        text-align: right;\n",
       "    }\n",
       "</style>\n",
       "<table border=\"1\" class=\"dataframe\">\n",
       "  <thead>\n",
       "    <tr style=\"text-align: right;\">\n",
       "      <th></th>\n",
       "      <th>id</th>\n",
       "      <th>Attr1</th>\n",
       "    </tr>\n",
       "  </thead>\n",
       "  <tbody>\n",
       "    <tr>\n",
       "      <th>0</th>\n",
       "      <td>133540</td>\n",
       "      <td>133540</td>\n",
       "    </tr>\n",
       "    <tr>\n",
       "      <th>1</th>\n",
       "      <td>133527</td>\n",
       "      <td>133527</td>\n",
       "    </tr>\n",
       "    <tr>\n",
       "      <th>2</th>\n",
       "      <td>133520</td>\n",
       "      <td>133520</td>\n",
       "    </tr>\n",
       "    <tr>\n",
       "      <th>3</th>\n",
       "      <td>133517</td>\n",
       "      <td>133517</td>\n",
       "    </tr>\n",
       "    <tr>\n",
       "      <th>4</th>\n",
       "      <td>133490</td>\n",
       "      <td>133490</td>\n",
       "    </tr>\n",
       "  </tbody>\n",
       "</table>\n",
       "</div>"
      ],
      "text/plain": [
       "       id   Attr1\n",
       "0  133540  133540\n",
       "1  133527  133527\n",
       "2  133520  133520\n",
       "3  133517  133517\n",
       "4  133490  133490"
      ]
     },
     "execution_count": 176,
     "metadata": {},
     "output_type": "execute_result"
    }
   ],
   "source": [
    "df_nodes_clear = pd.DataFrame({'id':nodes_lst, 'Attribute1':nodes_lst})\n",
    "df_nodes_clear.head()"
   ]
  },
  {
   "cell_type": "markdown",
   "id": "54972845",
   "metadata": {},
   "source": [
    "# Creating a Graph"
   ]
  },
  {
   "cell_type": "code",
   "execution_count": 180,
   "id": "1bd1262f",
   "metadata": {},
   "outputs": [],
   "source": [
    "G = nx.Graph()\n",
    "G.add_weighted_edges_from(edges_list)"
   ]
  },
  {
   "cell_type": "code",
   "execution_count": 181,
   "id": "aec1a1e6",
   "metadata": {},
   "outputs": [],
   "source": [
    "comms = community_louvain.best_partition(G)"
   ]
  },
  {
   "cell_type": "code",
   "execution_count": 191,
   "id": "2feec3d9",
   "metadata": {},
   "outputs": [],
   "source": [
    "df_nodes_clear['Attr1'] = list(comms.values()[:-1:]"
   ]
  },
  {
   "cell_type": "code",
   "execution_count": 193,
   "id": "2729dcf3",
   "metadata": {},
   "outputs": [
    {
     "data": {
      "text/plain": [
       "<AxesSubplot:>"
      ]
     },
     "execution_count": 193,
     "metadata": {},
     "output_type": "execute_result"
    },
    {
     "data": {
      "image/png": "[encoded data removed]",
      "text/plain": [
       "<Figure size 432x288 with 1 Axes>"
      ]
     },
     "metadata": {
      "needs_background": "light"
     },
     "output_type": "display_data"
    }
   ],
   "source": [
    "df_nodes_clear.Attr1.plot()"
   ]
  },
  {
   "cell_type": "code",
   "execution_count": 201,
   "id": "fef01091",
   "metadata": {},
   "outputs": [],
   "source": [
    "df_nodes_clear = df_nodes_clear.set_index('id')"
   ]
  },
  {
   "cell_type": "code",
   "execution_count": 202,
   "id": "4b18fdb5-20e8-49c6-8c2a-c14de6d10739",
   "metadata": {},
   "outputs": [],
   "source": [
    "df_nodes_clear.to_csv('nodes_clean_1000.csv')"
   ]
  },
  {
   "cell_type": "code",
   "execution_count": 183,
   "id": "d857fb04",
   "metadata": {},
   "outputs": [],
   "source": [
    "ctr = Counter(comms.values())"
   ]
  },
  {
   "cell_type": "code",
   "execution_count": 184,
   "id": "a6dde5e5",
   "metadata": {},
   "outputs": [
    {
     "data": {
      "text/plain": [
       "[(1, 365), (0, 308), (2, 277)]"
      ]
     },
     "execution_count": 184,
     "metadata": {},
     "output_type": "execute_result"
    }
   ],
   "source": [
    "ctr.most_common()"
   ]
  },
  {
   "cell_type": "code",
   "execution_count": null,
   "id": "f08a9660",
   "metadata": {},
   "outputs": [],
   "source": []
  },
  {
   "cell_type": "code",
   "execution_count": null,
   "id": "f1f3f22f",
   "metadata": {},
   "outputs": [],
   "source": []
  },
  {
   "cell_type": "code",
   "execution_count": null,
   "id": "5eed2662",
   "metadata": {},
   "outputs": [],
   "source": []
  },
  {
   "cell_type": "code",
   "execution_count": null,
   "id": "583232ba",
   "metadata": {},
   "outputs": [],
   "source": []
  },
  {
   "cell_type": "code",
   "execution_count": null,
   "id": "028fb54a",
   "metadata": {},
   "outputs": [],
   "source": []
  },
  {
   "cell_type": "code",
   "execution_count": null,
   "id": "a06b0053",
   "metadata": {},
   "outputs": [],
   "source": []
  },
  {
   "cell_type": "code",
   "execution_count": 4,
   "id": "c513cb1b",
   "metadata": {},
   "outputs": [
    {
     "data": {
      "application/vnd.jupyter.widget-view+json": {
       "model_id": "ca1304782d8749bbbcaf534f1388e9cf",
       "version_major": 2,
       "version_minor": 0
      },
      "text/plain": [
       "0it [00:00, ?it/s]"
      ]
     },
     "metadata": {},
     "output_type": "display_data"
    }
   ],
   "source": [
    "feedback = []\n",
    "for index, post in tqdm(posts.iterrows()):\n",
    "    for user_id in post.likes_id:\n",
    "        feedback.append((user_id, post.id, 1.0))"
   ]
  },
  {
   "cell_type": "code",
   "execution_count": 5,
   "id": "c382cc4f",
   "metadata": {},
   "outputs": [
    {
     "data": {
      "text/plain": [
       "1880732"
      ]
     },
     "execution_count": 5,
     "metadata": {},
     "output_type": "execute_result"
    }
   ],
   "source": [
    "len(feedback)"
   ]
  },
  {
   "cell_type": "code",
   "execution_count": 112,
   "id": "635d6686",
   "metadata": {},
   "outputs": [
    {
     "name": "stdout",
     "output_type": "stream",
     "text": [
      "rating_threshold = 1.0\n",
      "exclude_unknowns = True\n"
     ]
    },
    {
     "name": "stderr",
     "output_type": "stream",
     "text": [
      "C:\\Anaconda\\lib\\site-packages\\cornac\\data\\dataset.py:361: UserWarning: 3591 duplicated observations are removed!\n",
      "  warnings.warn(\"%d duplicated observations are removed!\" % dup_count)\n"
     ]
    },
    {
     "name": "stdout",
     "output_type": "stream",
     "text": [
      "---\n",
      "Training data:\n",
      "Number of users = 116159\n",
      "Number of items = 4285\n",
      "Number of ratings = 1500994\n",
      "Max rating = 1.0\n",
      "Min rating = 1.0\n",
      "Global mean = 1.0\n"
     ]
    },
    {
     "name": "stderr",
     "output_type": "stream",
     "text": [
      "C:\\Anaconda\\lib\\site-packages\\cornac\\data\\dataset.py:361: UserWarning: 177 duplicated observations are removed!\n",
      "  warnings.warn(\"%d duplicated observations are removed!\" % dup_count)\n"
     ]
    },
    {
     "name": "stdout",
     "output_type": "stream",
     "text": [
      "---\n",
      "Test data:\n",
      "Number of users = 43181\n",
      "Number of items = 4285\n",
      "Number of ratings = 361468\n",
      "Number of unknown users = 0\n",
      "Number of unknown items = 0\n",
      "---\n",
      "Total users = 116159\n",
      "Total items = 4285\n"
     ]
    }
   ],
   "source": [
    "ratio_split = RatioSplit(\n",
    "    data=feedback,\n",
    "    test_size=0.2,\n",
    "    exclude_unknowns=True,\n",
    "    item_text=item_text_modality,\n",
    "    verbose=True,\n",
    "    seed=123,\n",
    ")"
   ]
  },
  {
   "cell_type": "code",
   "execution_count": 113,
   "id": "54f31eec",
   "metadata": {},
   "outputs": [],
   "source": [
    "cdl = cornac.models.CDL(\n",
    "    k=10,\n",
    "    autoencoder_structure=[100],\n",
    "    max_iter=30,\n",
    "    lambda_u=0.1,\n",
    "    lambda_v=1,\n",
    "    lambda_w=0.1,\n",
    "    lambda_n=1000,\n",
    "    seed=123,\n",
    "    verbose=True\n",
    ")"
   ]
  },
  {
   "cell_type": "code",
   "execution_count": 114,
   "id": "21a01123",
   "metadata": {},
   "outputs": [],
   "source": [
    "models = [\n",
    "    #MF(k=10, max_iter=25, learning_rate=0.01, lambda_reg=0.02, use_bias=True, seed=123),\n",
    "    #PMF(k=10, max_iter=100, learning_rate=0.001, lambda_reg=0.001, seed=123),\n",
    "    #BPR(k=10, max_iter=200, learning_rate=0.001, lambda_reg=0.02, num_threads=0, verbose=True),\n",
    "    cdl\n",
    "]"
   ]
  },
  {
   "cell_type": "code",
   "execution_count": 115,
   "id": "2ca9befa",
   "metadata": {},
   "outputs": [],
   "source": [
    "# define metrics to evaluate the models\n",
    "metrics = [Precision(k=10), Recall(k=10), NDCG(k=10), MAP()]"
   ]
  },
  {
   "cell_type": "markdown",
   "id": "8fd0abc9",
   "metadata": {},
   "source": [
    "пока что не работает текст, почему-то cornac считает, что в тексте есть NoneType'ы. Возможно, это из-за того, что не у всех айтемов есть описание"
   ]
  },
  {
   "cell_type": "code",
   "execution_count": 118,
   "id": "9f22de3a",
   "metadata": {},
   "outputs": [
    {
     "name": "stdout",
     "output_type": "stream",
     "text": [
      "\n",
      "[CDL] Training started!\n"
     ]
    },
    {
     "ename": "AttributeError",
     "evalue": "'NoneType' object has no attribute 'batch_bow'",
     "output_type": "error",
     "traceback": [
      "\u001b[1;31m---------------------------------------------------------------------------\u001b[0m",
      "\u001b[1;31mAttributeError\u001b[0m                            Traceback (most recent call last)",
      "Input \u001b[1;32mIn [118]\u001b[0m, in \u001b[0;36m<cell line: 1>\u001b[1;34m()\u001b[0m\n\u001b[1;32m----> 1\u001b[0m \u001b[43mcornac\u001b[49m\u001b[38;5;241;43m.\u001b[39;49m\u001b[43mExperiment\u001b[49m\u001b[43m(\u001b[49m\u001b[43meval_method\u001b[49m\u001b[38;5;241;43m=\u001b[39;49m\u001b[43mrs\u001b[49m\u001b[43m,\u001b[49m\u001b[43m \u001b[49m\u001b[43mmodels\u001b[49m\u001b[38;5;241;43m=\u001b[39;49m\u001b[43mmodels\u001b[49m\u001b[43m,\u001b[49m\u001b[43m \u001b[49m\u001b[43mmetrics\u001b[49m\u001b[38;5;241;43m=\u001b[39;49m\u001b[43mmetrics\u001b[49m\u001b[43m,\u001b[49m\u001b[43m \u001b[49m\u001b[43muser_based\u001b[49m\u001b[38;5;241;43m=\u001b[39;49m\u001b[38;5;28;43;01mTrue\u001b[39;49;00m\u001b[43m,\u001b[49m\u001b[43m \u001b[49m\u001b[43mshow_validation\u001b[49m\u001b[38;5;241;43m=\u001b[39;49m\u001b[38;5;28;43;01mTrue\u001b[39;49;00m\u001b[43m)\u001b[49m\u001b[38;5;241;43m.\u001b[39;49m\u001b[43mrun\u001b[49m\u001b[43m(\u001b[49m\u001b[43m)\u001b[49m\n",
      "File \u001b[1;32mC:\\Anaconda\\lib\\site-packages\\cornac\\experiment\\experiment.py:131\u001b[0m, in \u001b[0;36mExperiment.run\u001b[1;34m(self)\u001b[0m\n\u001b[0;32m    128\u001b[0m \u001b[38;5;28mself\u001b[39m\u001b[38;5;241m.\u001b[39m_create_result()\n\u001b[0;32m    130\u001b[0m \u001b[38;5;28;01mfor\u001b[39;00m model \u001b[38;5;129;01min\u001b[39;00m \u001b[38;5;28mself\u001b[39m\u001b[38;5;241m.\u001b[39mmodels:\n\u001b[1;32m--> 131\u001b[0m     test_result, val_result \u001b[38;5;241m=\u001b[39m \u001b[38;5;28;43mself\u001b[39;49m\u001b[38;5;241;43m.\u001b[39;49m\u001b[43meval_method\u001b[49m\u001b[38;5;241;43m.\u001b[39;49m\u001b[43mevaluate\u001b[49m\u001b[43m(\u001b[49m\n\u001b[0;32m    132\u001b[0m \u001b[43m        \u001b[49m\u001b[43mmodel\u001b[49m\u001b[38;5;241;43m=\u001b[39;49m\u001b[43mmodel\u001b[49m\u001b[43m,\u001b[49m\n\u001b[0;32m    133\u001b[0m \u001b[43m        \u001b[49m\u001b[43mmetrics\u001b[49m\u001b[38;5;241;43m=\u001b[39;49m\u001b[38;5;28;43mself\u001b[39;49m\u001b[38;5;241;43m.\u001b[39;49m\u001b[43mmetrics\u001b[49m\u001b[43m,\u001b[49m\n\u001b[0;32m    134\u001b[0m \u001b[43m        \u001b[49m\u001b[43muser_based\u001b[49m\u001b[38;5;241;43m=\u001b[39;49m\u001b[38;5;28;43mself\u001b[39;49m\u001b[38;5;241;43m.\u001b[39;49m\u001b[43muser_based\u001b[49m\u001b[43m,\u001b[49m\n\u001b[0;32m    135\u001b[0m \u001b[43m        \u001b[49m\u001b[43mshow_validation\u001b[49m\u001b[38;5;241;43m=\u001b[39;49m\u001b[38;5;28;43mself\u001b[39;49m\u001b[38;5;241;43m.\u001b[39;49m\u001b[43mshow_validation\u001b[49m\u001b[43m,\u001b[49m\n\u001b[0;32m    136\u001b[0m \u001b[43m    \u001b[49m\u001b[43m)\u001b[49m\n\u001b[0;32m    138\u001b[0m     \u001b[38;5;28mself\u001b[39m\u001b[38;5;241m.\u001b[39mresult\u001b[38;5;241m.\u001b[39mappend(test_result)\n\u001b[0;32m    139\u001b[0m     \u001b[38;5;28;01mif\u001b[39;00m \u001b[38;5;28mself\u001b[39m\u001b[38;5;241m.\u001b[39mval_result \u001b[38;5;129;01mis\u001b[39;00m \u001b[38;5;129;01mnot\u001b[39;00m \u001b[38;5;28;01mNone\u001b[39;00m:\n",
      "File \u001b[1;32mC:\\Anaconda\\lib\\site-packages\\cornac\\eval_methods\\base_method.py:700\u001b[0m, in \u001b[0;36mBaseMethod.evaluate\u001b[1;34m(self, model, metrics, user_based, show_validation)\u001b[0m\n\u001b[0;32m    697\u001b[0m     \u001b[38;5;28mprint\u001b[39m(\u001b[38;5;124m\"\u001b[39m\u001b[38;5;130;01m\\n\u001b[39;00m\u001b[38;5;124m[\u001b[39m\u001b[38;5;132;01m{}\u001b[39;00m\u001b[38;5;124m] Training started!\u001b[39m\u001b[38;5;124m\"\u001b[39m\u001b[38;5;241m.\u001b[39mformat(model\u001b[38;5;241m.\u001b[39mname))\n\u001b[0;32m    699\u001b[0m start \u001b[38;5;241m=\u001b[39m time\u001b[38;5;241m.\u001b[39mtime()\n\u001b[1;32m--> 700\u001b[0m \u001b[43mmodel\u001b[49m\u001b[38;5;241;43m.\u001b[39;49m\u001b[43mfit\u001b[49m\u001b[43m(\u001b[49m\u001b[38;5;28;43mself\u001b[39;49m\u001b[38;5;241;43m.\u001b[39;49m\u001b[43mtrain_set\u001b[49m\u001b[43m,\u001b[49m\u001b[43m \u001b[49m\u001b[38;5;28;43mself\u001b[39;49m\u001b[38;5;241;43m.\u001b[39;49m\u001b[43mval_set\u001b[49m\u001b[43m)\u001b[49m\n\u001b[0;32m    701\u001b[0m train_time \u001b[38;5;241m=\u001b[39m time\u001b[38;5;241m.\u001b[39mtime() \u001b[38;5;241m-\u001b[39m start\n\u001b[0;32m    703\u001b[0m \u001b[38;5;66;03m##############\u001b[39;00m\n\u001b[0;32m    704\u001b[0m \u001b[38;5;66;03m# EVALUATION #\u001b[39;00m\n\u001b[0;32m    705\u001b[0m \u001b[38;5;66;03m##############\u001b[39;00m\n",
      "File \u001b[1;32mC:\\Anaconda\\lib\\site-packages\\cornac\\models\\cdl\\recom_cdl.py:177\u001b[0m, in \u001b[0;36mCDL.fit\u001b[1;34m(self, train_set, val_set)\u001b[0m\n\u001b[0;32m    174\u001b[0m \u001b[38;5;28mself\u001b[39m\u001b[38;5;241m.\u001b[39m_init()\n\u001b[0;32m    176\u001b[0m \u001b[38;5;28;01mif\u001b[39;00m \u001b[38;5;28mself\u001b[39m\u001b[38;5;241m.\u001b[39mtrainable:\n\u001b[1;32m--> 177\u001b[0m     \u001b[38;5;28;43mself\u001b[39;49m\u001b[38;5;241;43m.\u001b[39;49m\u001b[43m_fit_cdl\u001b[49m\u001b[43m(\u001b[49m\u001b[43m)\u001b[49m\n\u001b[0;32m    179\u001b[0m \u001b[38;5;28;01mreturn\u001b[39;00m \u001b[38;5;28mself\u001b[39m\n",
      "File \u001b[1;32mC:\\Anaconda\\lib\\site-packages\\cornac\\models\\cdl\\recom_cdl.py:188\u001b[0m, in \u001b[0;36mCDL._fit_cdl\u001b[1;34m(self)\u001b[0m\n\u001b[0;32m    185\u001b[0m R \u001b[38;5;241m=\u001b[39m \u001b[38;5;28mself\u001b[39m\u001b[38;5;241m.\u001b[39mtrain_set\u001b[38;5;241m.\u001b[39mcsc_matrix  \u001b[38;5;66;03m# csc for efficient slicing over items\u001b[39;00m\n\u001b[0;32m    186\u001b[0m n_users, n_items \u001b[38;5;241m=\u001b[39m \u001b[38;5;28mself\u001b[39m\u001b[38;5;241m.\u001b[39mtrain_set\u001b[38;5;241m.\u001b[39mnum_users, \u001b[38;5;28mself\u001b[39m\u001b[38;5;241m.\u001b[39mtrain_set\u001b[38;5;241m.\u001b[39mnum_items\n\u001b[1;32m--> 188\u001b[0m text_feature \u001b[38;5;241m=\u001b[39m \u001b[38;5;28;43mself\u001b[39;49m\u001b[38;5;241;43m.\u001b[39;49m\u001b[43mtrain_set\u001b[49m\u001b[38;5;241;43m.\u001b[39;49m\u001b[43mitem_text\u001b[49m\u001b[38;5;241;43m.\u001b[39;49m\u001b[43mbatch_bow\u001b[49m(\n\u001b[0;32m    189\u001b[0m     np\u001b[38;5;241m.\u001b[39marange(n_items)\n\u001b[0;32m    190\u001b[0m )  \u001b[38;5;66;03m# bag of word feature\u001b[39;00m\n\u001b[0;32m    191\u001b[0m text_feature \u001b[38;5;241m=\u001b[39m (text_feature \u001b[38;5;241m-\u001b[39m text_feature\u001b[38;5;241m.\u001b[39mmin()) \u001b[38;5;241m/\u001b[39m (\n\u001b[0;32m    192\u001b[0m     text_feature\u001b[38;5;241m.\u001b[39mmax() \u001b[38;5;241m-\u001b[39m text_feature\u001b[38;5;241m.\u001b[39mmin()\n\u001b[0;32m    193\u001b[0m )  \u001b[38;5;66;03m# normalization\u001b[39;00m\n\u001b[0;32m    195\u001b[0m \u001b[38;5;66;03m# Build model\u001b[39;00m\n",
      "\u001b[1;31mAttributeError\u001b[0m: 'NoneType' object has no attribute 'batch_bow'"
     ]
    }
   ],
   "source": [
    "cornac.Experiment(eval_method=rs, models=models, metrics=metrics, user_based=True, show_validation=True).run()"
   ]
  },
  {
   "cell_type": "code",
   "execution_count": 47,
   "id": "dc55719c",
   "metadata": {},
   "outputs": [
    {
     "name": "stdout",
     "output_type": "stream",
     "text": [
      "\n",
      "[BPR] Training started!\n"
     ]
    },
    {
     "data": {
      "application/vnd.jupyter.widget-view+json": {
       "model_id": "32dcbf8bf69447b092864021144f2a92",
       "version_major": 2,
       "version_minor": 0
      },
      "text/plain": [
       "  0%|          | 0/400 [00:00<?, ?it/s]"
      ]
     },
     "metadata": {},
     "output_type": "display_data"
    },
    {
     "name": "stdout",
     "output_type": "stream",
     "text": [
      "Optimization finished!\n",
      "\n",
      "[BPR] Evaluation started!\n"
     ]
    },
    {
     "data": {
      "application/vnd.jupyter.widget-view+json": {
       "model_id": "a255b2bc6b9b4bc29d305e07c841b8f8",
       "version_major": 2,
       "version_minor": 0
      },
      "text/plain": [
       "Ranking:   0%|          | 0/43181 [00:00<?, ?it/s]"
      ]
     },
     "metadata": {},
     "output_type": "display_data"
    },
    {
     "name": "stdout",
     "output_type": "stream",
     "text": [
      "\n",
      "TEST:\n",
      "...\n",
      "    |    MAP | NDCG@10 | Precision@10 | Recall@10 | Train (s) | Test (s)\n",
      "--- + ------ + ------- + ------------ + --------- + --------- + --------\n",
      "BPR | 0.0318 |  0.0363 |       0.0200 |    0.0486 |   56.6684 | 137.1479\n",
      "\n"
     ]
    }
   ],
   "source": [
    "cornac.Experiment(eval_method=rs, models=models, metrics=metrics, user_based=True, show_validation=True).run()"
   ]
  },
  {
   "cell_type": "code",
   "execution_count": null,
   "id": "f5ab8911",
   "metadata": {},
   "outputs": [],
   "source": []
  }
 ],
 "metadata": {
  "kernelspec": {
   "display_name": "Python 3 (ipykernel)",
   "language": "python",
   "name": "python3"
  },
  "language_info": {
   "codemirror_mode": {
    "name": "ipython",
    "version": 3
   },
   "file_extension": ".py",
   "mimetype": "text/x-python",
   "name": "python",
   "nbconvert_exporter": "python",
   "pygments_lexer": "ipython3",
   "version": "3.9.13"
  },
  "toc": {
   "base_numbering": 1,
   "nav_menu": {},
   "number_sections": true,
   "sideBar": true,
   "skip_h1_title": false,
   "title_cell": "Table of Contents",
   "title_sidebar": "Contents",
   "toc_cell": false,
   "toc_position": {},
   "toc_section_display": true,
   "toc_window_display": false
  }
 },
 "nbformat": 4,
 "nbformat_minor": 5
}
